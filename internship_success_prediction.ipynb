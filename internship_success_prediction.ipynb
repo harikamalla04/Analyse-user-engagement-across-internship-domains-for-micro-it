{
 "cells": [
  {
   "cell_type": "code",
   "execution_count": null,
   "id": "0ce913a6",
   "metadata": {},
   "outputs": [],
   "source": [
    "\n",
    "import pandas as pd\n",
    "import numpy as np\n",
    "import matplotlib.pyplot as plt\n",
    "import seaborn as sns\n",
    "\n",
    "from sklearn.model_selection import train_test_split\n",
    "from sklearn.preprocessing import StandardScaler\n",
    "from sklearn.metrics import classification_report, confusion_matrix\n",
    "from sklearn.linear_model import LogisticRegression\n",
    "from sklearn.ensemble import RandomForestClassifier\n",
    "from sklearn.svm import SVC\n"
   ]
  },
  {
   "cell_type": "code",
   "execution_count": null,
   "id": "cbd38177",
   "metadata": {},
   "outputs": [],
   "source": [
    "\n",
    "# Simulate student profile and internship outcome data\n",
    "np.random.seed(42)\n",
    "\n",
    "n = 500\n",
    "data = {\n",
    "    'CGPA': np.round(np.random.normal(7.5, 0.7, n), 2),\n",
    "    'Participation Score': np.random.randint(1, 11, size=n),\n",
    "    'Project Count': np.random.randint(0, 6, size=n),\n",
    "    'Workshops Attended': np.random.randint(0, 10, size=n),\n",
    "    'Year': np.random.choice([2, 3, 4], size=n),\n",
    "    'Branch': np.random.choice(['CSE', 'ECE', 'EEE', 'MECH', 'CIVIL'], size=n),\n",
    "    'Selected': np.random.choice([0, 1], size=n, p=[0.4, 0.6])\n",
    "}\n",
    "\n",
    "df = pd.DataFrame(data)\n",
    "df.head()\n"
   ]
  },
  {
   "cell_type": "code",
   "execution_count": null,
   "id": "a3783cba",
   "metadata": {},
   "outputs": [],
   "source": [
    "\n",
    "# Convert categorical data\n",
    "df = pd.get_dummies(df, columns=['Branch'], drop_first=True)\n",
    "\n",
    "# Features and target\n",
    "X = df.drop('Selected', axis=1)\n",
    "y = df['Selected']\n",
    "\n",
    "# Normalize numerical features\n",
    "scaler = StandardScaler()\n",
    "X_scaled = scaler.fit_transform(X)\n",
    "\n",
    "# Split data\n",
    "X_train, X_test, y_train, y_test = train_test_split(X_scaled, y, test_size=0.2, random_state=42)\n",
    "\n",
    "X.shape, y.shape\n"
   ]
  },
  {
   "cell_type": "code",
   "execution_count": null,
   "id": "08cda50d",
   "metadata": {},
   "outputs": [],
   "source": [
    "\n",
    "logreg = LogisticRegression()\n",
    "logreg.fit(X_train, y_train)\n",
    "y_pred_logreg = logreg.predict(X_test)\n",
    "\n",
    "print(\"Logistic Regression Classification Report:\")\n",
    "print(classification_report(y_test, y_pred_logreg))\n"
   ]
  },
  {
   "cell_type": "code",
   "execution_count": null,
   "id": "ab62cb87",
   "metadata": {},
   "outputs": [],
   "source": [
    "\n",
    "rf = RandomForestClassifier(n_estimators=100, random_state=42)\n",
    "rf.fit(X_train, y_train)\n",
    "y_pred_rf = rf.predict(X_test)\n",
    "\n",
    "print(\"Random Forest Classification Report:\")\n",
    "print(classification_report(y_test, y_pred_rf))\n"
   ]
  },
  {
   "cell_type": "code",
   "execution_count": null,
   "id": "8efd8685",
   "metadata": {},
   "outputs": [],
   "source": [
    "\n",
    "svm = SVC()\n",
    "svm.fit(X_train, y_train)\n",
    "y_pred_svm = svm.predict(X_test)\n",
    "\n",
    "print(\"Support Vector Machine Classification Report:\")\n",
    "print(classification_report(y_test, y_pred_svm))\n"
   ]
  },
  {
   "cell_type": "code",
   "execution_count": null,
   "id": "52af7e19",
   "metadata": {},
   "outputs": [],
   "source": [
    "\n",
    "fig, axes = plt.subplots(1, 3, figsize=(18, 5))\n",
    "\n",
    "for ax, preds, model in zip(axes, [y_pred_logreg, y_pred_rf, y_pred_svm], ['LogReg', 'RandomForest', 'SVM']):\n",
    "    cm = confusion_matrix(y_test, preds)\n",
    "    sns.heatmap(cm, annot=True, fmt='d', cmap='Blues', ax=ax)\n",
    "    ax.set_title(f'{model} Confusion Matrix')\n",
    "    ax.set_xlabel('Predicted')\n",
    "    ax.set_ylabel('Actual')\n",
    "\n",
    "plt.tight_layout()\n",
    "plt.show()\n"
   ]
  }
 ],
 "metadata": {},
 "nbformat": 4,
 "nbformat_minor": 5
}
